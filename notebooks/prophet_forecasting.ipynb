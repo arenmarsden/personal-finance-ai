{
 "cells": [
  {
   "cell_type": "markdown",
   "id": "519dd7e6850b1475",
   "metadata": {},
   "source": [
    "# Prophet Forecasting\n",
    "\n",
    "Prophet is an open source model created by Meta Open Source. This notebook will analyse the utilisation of Prophet for spend forecasting for AI-Based Financial Assistant."
   ]
  },
  {
   "cell_type": "code",
   "execution_count": null,
   "id": "bdfb4c591774a8a0",
   "metadata": {
    "ExecuteTime": {
     "end_time": "2025-10-28T22:27:50.590339Z",
     "start_time": "2025-10-28T22:27:50.576475Z"
    }
   },
   "outputs": [],
   "source": [
    "import pandas as pd\n",
    "import numpy as np\n",
    "from prophet import Prophet\n",
    "import matplotlib.pyplot as plt"
   ]
  },
  {
   "cell_type": "markdown",
   "id": "5b107340ff3a2cf0",
   "metadata": {},
   "source": [
    "## User Configurables\n",
    "\n",
    "User configurables will be variables automatically inputted and taken from the users settings."
   ]
  },
  {
   "cell_type": "code",
   "execution_count": null,
   "id": "fc1d0059d1a8e300",
   "metadata": {
    "ExecuteTime": {
     "end_time": "2025-10-28T22:27:50.606323Z",
     "start_time": "2025-10-28T22:27:50.603171Z"
    }
   },
   "outputs": [],
   "source": [
    "ANNUAL_SALARY = 24680           # user-provided average UK salary (annual post tax, NI, pension)\n",
    "MONTHLY_INCOME = ANNUAL_SALARY / 12.0\n",
    "\n",
    "SAVINGS_GOAL = 250              # £ per month target savings\n",
    "GROCERY_WEEKLY_CAP = 35         # £ per week for groceries\n",
    "GROCERY_MONTHLY_CAP = GROCERY_WEEKLY_CAP * 4  # approximate monthly cap (~£140)\n",
    "\n",
    "HIST_MONTHS = 24                # months of historical data to simulate\n",
    "FORECAST_MONTHS = 12            # months to forecast ahead\n",
    "ANNUAL_INFLATION = 0.04         # default 4% annual inflation (adjustable)\n"
   ]
  },
  {
   "cell_type": "code",
   "execution_count": null,
   "id": "755371bfc2aa6c56",
   "metadata": {
    "ExecuteTime": {
     "end_time": "2025-10-28T22:27:50.616801Z",
     "start_time": "2025-10-28T22:27:50.612719Z"
    }
   },
   "outputs": [],
   "source": [
    "np.random.seed(42)              # reproducible results\n",
    "\n",
    "base_monthly = {\n",
    "    'Housing': 1410,            # rent — tune this to your local typical rent\n",
    "    'Utilities': 250.0,         # combined electric + water + internet + phone + council tax\n",
    "    'Food_Groceries': 140.0,    # groceries (we will cap this to the weekly allowance)\n",
    "    'Food_EatingOut': 100.0,    # casual eating out / takeaways\n",
    "    'Transport': 180.0          # transport (public transport / fuel / etc)\n",
    "}"
   ]
  },
  {
   "cell_type": "markdown",
   "id": "e3e2a9015b4f289",
   "metadata": {},
   "source": [
    "## Building Simulated Historical Dataset\n",
    "\n",
    "The historical dataset is important for Prophet forecasting so we can analyse previous costs to forecast upcoming ones."
   ]
  },
  {
   "cell_type": "code",
   "execution_count": null,
   "id": "a0c188c97cbfcc1d",
   "metadata": {
    "ExecuteTime": {
     "end_time": "2025-10-28T22:27:50.649283Z",
     "start_time": "2025-10-28T22:27:50.621609Z"
    }
   },
   "outputs": [],
   "source": [
    "dates = pd.date_range(start='2025-01-01', periods=HIST_MONTHS, freq='ME')\n",
    "records = []\n",
    "\n",
    "for i, d in enumerate(dates):\n",
    "    # monthly inflation factor (compounded every month)\n",
    "    month_inflation = (1 + ANNUAL_INFLATION / 12) ** i\n",
    "\n",
    "    # For each category, apply inflation and small random noise\n",
    "    for cat, base in base_monthly.items():\n",
    "        noise = np.random.normal(loc=1.0, scale=0.03)  # small gaussian noise ±3%\n",
    "        amount = base * month_inflation * noise\n",
    "\n",
    "        # If groceries, ensure historical values do not violate the weekly cap too badly\n",
    "        if cat == 'Food_Groceries':\n",
    "            amount = min(amount, GROCERY_MONTHLY_CAP * np.random.uniform(0.95, 1.05))\n",
    "            # this allows historical to sometimes be slightly below cap — realistic\n",
    "        records.append({'date': d, 'category': cat, 'amount': round(amount, 2)})\n",
    "\n",
    "df_hist = pd.DataFrame(records)"
   ]
  },
  {
   "cell_type": "markdown",
   "id": "2fc24ff21ca9d07b",
   "metadata": {},
   "source": [
    "## Category Forecasting\n",
    "\n",
    "We will forecast each category individually using Prophet"
   ]
  },
  {
   "cell_type": "code",
   "execution_count": null,
   "id": "70db4a62c40f9cda",
   "metadata": {
    "ExecuteTime": {
     "end_time": "2025-10-28T22:28:26.197324Z",
     "start_time": "2025-10-28T22:27:50.654150Z"
    }
   },
   "outputs": [],
   "source": [
    "forecasts = []\n",
    "\n",
    "for cat in df_hist['category'].unique():\n",
    "    # Prepare data for Prophet: columns 'ds' and 'y'\n",
    "    cat_df = df_hist[df_hist['category'] == cat][['date', 'amount']].rename(columns={'date': 'ds', 'amount': 'y'})\n",
    "\n",
    "    # Initialize Prophet model\n",
    "    # By default it will attempt to detect trends. Turn off weekly/day seasonality as monthly data suffices.\n",
    "    m = Prophet(yearly_seasonality=True, weekly_seasonality=False, daily_seasonality=False)\n",
    "    m.fit(cat_df)\n",
    "\n",
    "    # Create future dataframe (monthly frequency)\n",
    "    future = m.make_future_dataframe(periods=FORECAST_MONTHS, freq='ME')\n",
    "    forecast = m.predict(future)\n",
    "\n",
    "    # Keep only needed columns and add category label\n",
    "    keep_cols = ['ds', 'yhat', 'yhat_lower', 'yhat_upper']\n",
    "    forecast_small = forecast[keep_cols].copy()\n",
    "    forecast_small['category'] = cat\n",
    "\n",
    "    # If category is Food_Groceries, enforce the monthly cap on the forecasted yhat\n",
    "    if cat == 'Food_Groceries':\n",
    "        forecast_small['yhat_capped'] = forecast_small['yhat'].apply(lambda x: min(x, GROCERY_MONTHLY_CAP))\n",
    "        # also cap lower/upper for more conservative intervals (optional)\n",
    "        forecast_small['yhat_lower_capped'] = forecast_small['yhat_lower'].apply(lambda x: min(x, GROCERY_MONTHLY_CAP))\n",
    "        forecast_small['yhat_upper_capped'] = forecast_small['yhat_upper'].apply(lambda x: min(x, GROCERY_MONTHLY_CAP))\n",
    "    else:\n",
    "        # for non-grocery categories, capped values are same as original\n",
    "        forecast_small['yhat_capped'] = forecast_small['yhat']\n",
    "        forecast_small['yhat_lower_capped'] = forecast_small['yhat_lower']\n",
    "        forecast_small['yhat_upper_capped'] = forecast_small['yhat_upper']\n",
    "\n",
    "    # Append\n",
    "    forecasts.append(forecast_small)\n",
    "\n",
    "# Combine category forecasts into a single DataFrame\n",
    "forecast_all = pd.concat(forecasts)"
   ]
  },
  {
   "cell_type": "markdown",
   "id": "114406c2cc2ab6d8",
   "metadata": {},
   "source": [
    "## Build a monthly summary with actuals and forecasts\n",
    "\n",
    "This shows\n"
   ]
  },
  {
   "cell_type": "code",
   "execution_count": null,
   "id": "5bade01c83fa6526",
   "metadata": {
    "ExecuteTime": {
     "end_time": "2025-10-28T22:28:26.254046Z",
     "start_time": "2025-10-28T22:28:26.234891Z"
    }
   },
   "outputs": [],
   "source": [
    "# 1) Historical totals (per-month)\n",
    "hist_totals = df_hist.groupby('date')['amount'].sum().reset_index().rename(columns={'date': 'month', 'amount': 'total_spend_actual'})\n",
    "\n",
    "# 2) Forecast totals: for each ds (month) sum yhat_capped across categories\n",
    "forecast_totals = (\n",
    "    forecast_all.groupby('ds')['yhat_capped'].sum().reset_index().rename(columns={'ds': 'month', 'yhat_capped': 'total_spend_forecast'})\n",
    ")\n",
    "\n",
    "# 3) Merge historical and forecast totals\n",
    "combined = pd.merge(hist_totals, forecast_totals, on='month', how='outer').sort_values('month').reset_index(drop=True)\n",
    "\n",
    "# 4) Fill NaNs sensibly: historical months will have no forecast? Actually forecast includes all months including history.\n",
    "#    To ensure consistent values, prefer historical actuals for historical months and forecast for future months.\n",
    "combined['total_spend'] = combined.apply(\n",
    "    lambda row: row['total_spend_actual'] if not np.isnan(row['total_spend_actual']) else row['total_spend_forecast'],\n",
    "    axis=1\n",
    ")\n",
    "\n",
    "# 5) Compute savings = income - total_spend\n",
    "combined['monthly_income'] = MONTHLY_INCOME\n",
    "combined['savings'] = combined['monthly_income'] - combined['total_spend']\n",
    "combined['savings_goal_met'] = combined['savings'] >= SAVINGS_GOAL\n",
    "\n",
    "# Keep only the next FORECAST_MONTHS rows that are forecasting or mix of last history + future:\n",
    "# We'll show the last HIST_MONTHS (history) and then the next FORECAST_MONTHS (future)\n",
    "# For the user's quick check, show the next FORECAST_MONTHS months from the last historical month\n",
    "last_hist_month = df_hist['date'].max()\n",
    "show_start = last_hist_month + pd.offsets.MonthBegin(1)  # month after last history\n",
    "show_end = show_start + pd.offsets.MonthEnd(FORECAST_MONTHS - 1)\n",
    "\n",
    "# Prepare a month-level table for the forecast period\n",
    "forecast_period_mask = (combined['month'] >= show_start) & (combined['month'] <= show_end)\n",
    "forecast_period_table = combined.loc[forecast_period_mask, ['month', 'total_spend', 'monthly_income', 'savings', 'savings_goal_met']].copy()\n",
    "forecast_period_table['month'] = forecast_period_table['month'].dt.to_period('M').dt.to_timestamp()\n",
    "\n",
    "# Round values for readability\n",
    "forecast_period_table[['total_spend', 'monthly_income', 'savings']] = forecast_period_table[['total_spend', 'monthly_income', 'savings']].round(2)\n"
   ]
  },
  {
   "cell_type": "markdown",
   "id": "fbfadb25c803237a",
   "metadata": {},
   "source": [
    "## Breakdown by category"
   ]
  },
  {
   "cell_type": "code",
   "execution_count": null,
   "id": "c0b46b1bd3897956",
   "metadata": {
    "ExecuteTime": {
     "end_time": "2025-10-28T22:28:26.266986Z",
     "start_time": "2025-10-28T22:28:26.258895Z"
    }
   },
   "outputs": [],
   "source": [
    "# Pivot forecast_all for the forecast months to show predicted per-category amounts (capped where applicable)\n",
    "# Keep only rows in the forecast window\n",
    "forecast_window = forecast_all[(forecast_all['ds'] >= show_start) & (forecast_all['ds'] <= show_end)].copy()\n",
    "\n",
    "# Select columns and use capped yhat values\n",
    "forecast_window['yhat_final'] = forecast_window['yhat_capped']\n",
    "pivot = forecast_window.pivot_table(index='ds', columns='category', values='yhat_final', aggfunc='first').reset_index().rename(columns={'ds': 'month'})\n",
    "\n",
    "# Round pivot values\n",
    "for c in pivot.columns:\n",
    "    if c != 'month':\n",
    "        pivot[c] = pivot[c].round(2)\n",
    "\n",
    "# Merge pivot into the forecast_period_table for a friendly combined view\n",
    "display_table = pd.merge(forecast_period_table, pivot, left_on='month', right_on='month', how='left')\n"
   ]
  },
  {
   "cell_type": "markdown",
   "id": "31e52730ec45e92a",
   "metadata": {},
   "source": [
    "## Output\n",
    "\n"
   ]
  },
  {
   "cell_type": "code",
   "execution_count": null,
   "id": "a60ebddcccc2dc7e",
   "metadata": {
    "ExecuteTime": {
     "end_time": "2025-10-28T22:28:26.823414Z",
     "start_time": "2025-10-28T22:28:26.272022Z"
    }
   },
   "outputs": [],
   "source": [
    "print(f\"Monthly income assumed: £{MONTHLY_INCOME:.2f}\")\n",
    "print(f\"Savings goal: £{SAVINGS_GOAL} / month\")\n",
    "print(f\"Grocery weekly cap: £{GROCERY_WEEKLY_CAP}  (≈ £{GROCERY_MONTHLY_CAP} / month)\\n\")\n",
    "\n",
    "# Show the tabular forecast for the next {FORECAST_MONTHS} months\n",
    "print(\"Forecast summary (next {} months):\".format(FORECAST_MONTHS))\n",
    "display(display_table)   # In Jupyter this will render a neat table\n",
    "\n",
    "# 1) Plot total spend (history + forecast) vs target spend (income - savings goal)\n",
    "plt.figure(figsize=(10, 5))\n",
    "# Prepare timeline for plotting: use combined table months\n",
    "plt.plot(combined['month'], combined['total_spend'], marker='o', label='Total Spend (actual/history+forecast mixed)')\n",
    "# horizontal line showing max spend allowed to meet savings goal = income - savings_goal\n",
    "target_spend = MONTHLY_INCOME - SAVINGS_GOAL\n",
    "plt.axhline(y=target_spend, linestyle=':', label=f'Target max spend for £{SAVINGS_GOAL} savings', linewidth=1)\n",
    "plt.title('Total Monthly Spend (history + forecast) vs Savings Target')\n",
    "plt.xlabel('Month')\n",
    "plt.ylabel('Amount (£)')\n",
    "plt.legend()\n",
    "plt.tight_layout()\n",
    "plt.show()\n",
    "\n",
    "# 2) Optional: per-category forecast chart (stacked-style visual would be nicer but keep simple line plots)\n",
    "for cat in df_hist['category'].unique():\n",
    "    # get category forecast series (capped) for the plotting window (history + forecast)\n",
    "    # build a series that contains both historical and forecasted values for continuity\n",
    "    hist_cat = df_hist[df_hist['category'] == cat][['date', 'amount']].rename(columns={'date': 'month', 'amount': 'value'})\n",
    "    fut_cat = forecast_all[forecast_all['category'] == cat][['ds', 'yhat_capped']].rename(columns={'ds': 'month', 'yhat_capped': 'value'})\n",
    "    combined_cat = pd.merge(\n",
    "        pd.DataFrame({'month': pd.date_range(df_hist['date'].min(), show_end, freq='ME')}),\n",
    "        pd.concat([hist_cat, fut_cat.rename(columns={'value': 'value'})], ignore_index=True),\n",
    "        on='month',\n",
    "        how='left'\n",
    "    )\n",
    "    # fill forward/backfill small gaps if any\n",
    "    combined_cat['value'] = combined_cat['value'].interpolate().ffill().bfill()\n",
    "\n",
    "    plt.figure(figsize=(8, 3.5))\n",
    "    plt.plot(combined_cat['month'], combined_cat['value'], marker='o', label=f'{cat}')\n",
    "    plt.title(f'Category forecast (and history): {cat}')\n",
    "    plt.xlabel('Month')\n",
    "    plt.ylabel('Amount (£)')\n",
    "    plt.legend()\n",
    "    plt.tight_layout()\n",
    "    plt.show()\n",
    "\n",
    "df_hist\n",
    "\n",
    "# Final textual check: show whether savings goal is met for each forecast month\n",
    "goal_check = display_table[['month', 'savings', 'savings_goal_met']].copy()\n",
    "goal_check['month'] = goal_check['month'].dt.to_period('M').astype(str)\n",
    "print(\"\\nSavings goal check (forecast months):\")\n",
    "print(goal_check.to_string(index=False))"
   ]
  }
 ],
 "metadata": {
  "kernelspec": {
   "display_name": "Python 3",
   "language": "python",
   "name": "python3"
  },
  "language_info": {
   "codemirror_mode": {
    "name": "ipython",
    "version": 2
   },
   "file_extension": ".py",
   "mimetype": "text/x-python",
   "name": "python",
   "nbconvert_exporter": "python",
   "pygments_lexer": "ipython2",
   "version": "2.7.6"
  }
 },
 "nbformat": 4,
 "nbformat_minor": 5
}
